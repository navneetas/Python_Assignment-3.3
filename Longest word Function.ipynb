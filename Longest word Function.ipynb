{
 "cells": [
  {
   "cell_type": "code",
   "execution_count": 5,
   "metadata": {},
   "outputs": [
    {
     "name": "stdout",
     "output_type": "stream",
     "text": [
      "Enter list of words separated by comma: gravity, soul, mole, leather\n",
      "The longest word is:  leather with 8 letters.\n"
     ]
    }
   ],
   "source": [
    "words = input(\"Enter list of words separated by comma: \")\n",
    "list1 = words.split(\",\")\n",
    "longest_word = longestWord(list1)\n",
    "print (\"The longest word is:\", longest_word, \"with\", len(longest_word), \"letters.\")\n",
    "\n",
    "## Function to find the longest word###\n",
    "def longestWord(list1):\n",
    "    wordlen = []\n",
    "    for n in list1:\n",
    "        wordlen.append((len(n),n))\n",
    "    wordlen.sort()\n",
    "    return wordlen[-1][1]\n",
    "\n"
   ]
  },
  {
   "cell_type": "code",
   "execution_count": null,
   "metadata": {},
   "outputs": [],
   "source": []
  }
 ],
 "metadata": {
  "kernelspec": {
   "display_name": "Python 3",
   "language": "python",
   "name": "python3"
  },
  "language_info": {
   "codemirror_mode": {
    "name": "ipython",
    "version": 3
   },
   "file_extension": ".py",
   "mimetype": "text/x-python",
   "name": "python",
   "nbconvert_exporter": "python",
   "pygments_lexer": "ipython3",
   "version": "3.6.4"
  }
 },
 "nbformat": 4,
 "nbformat_minor": 2
}
